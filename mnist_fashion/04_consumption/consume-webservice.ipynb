{
 "cells": [
  {
   "cell_type": "markdown",
   "source": [
    "# Consume deployed webservice via REST\n",
    "Demonstrates the usage of a deployed model via plain REST.\n",
    "\n",
    "REST is language-agnostic, so you should be able to query from any REST-capable programming language."
   ],
   "metadata": {}
  },
  {
   "cell_type": "markdown",
   "source": [
    "## Configuration"
   ],
   "metadata": {}
  },
  {
   "cell_type": "code",
   "execution_count": 1,
   "source": [
    "from environs import Env\r\n",
    "env = Env(expand_vars=True)\r\n",
    "env.read_env(\"foundation.env\")\r\n",
    "env.read_env(\"service-principals.env\")\r\n",
    "\r\n",
    "# image to test\r\n",
    "IMAGE_TO_TEST = \"mnist_fashion/04_consumption/random_test_images/random-test-image-9629.png\"\r\n",
    "\r\n",
    "# endpoint of the scoring webservice\r\n",
    "SCORING_URI = \"<add your own scoring REST endpoint here>\"\r\n",
    "\r\n",
    "# auth method, either \"Token\", \"Keys\" or \"None\".\r\n",
    "# also specify additional values depending on auth method\r\n",
    "AUTH_METHOD = \"Keys\"\r\n",
    "if AUTH_METHOD == \"Keys\":\r\n",
    "    AUTH_KEY = \"<add your own key here>\"\r\n",
    "elif AUTH_METHOD == \"Token\":\r\n",
    "    REGION = \"eastus\"\r\n",
    "    SUBSCRIPTION_ID = env(\"SUBSCRIPTION_ID\")\r\n",
    "    RESOURCE_GROUP = env(\"RESOURCE_GROUP\")\r\n",
    "    WORKSPACE_NAME = env(\"WORKSPACE_NAME\")\r\n",
    "    SERVICE_NAME = \"mnist-fashion-service\"\r\n",
    "    CONSUME_MODEL_SP_TENANT_ID = env(\"CONSUME_MODEL_SP_TENANT_ID\")\r\n",
    "    CONSUME_MODEL_SP_CLIENT_ID = env(\"CONSUME_MODEL_SP_CLIENT_ID\")\r\n",
    "    CONSUME_MODEL_SP_CLIENT_SECRET = env(\"CONSUME_MODEL_SP_CLIENT_SECRET\")\r\n",
    "elif AUTH_METHOD == \"None\":\r\n",
    "    pass"
   ],
   "outputs": [],
   "metadata": {}
  },
  {
   "cell_type": "markdown",
   "source": [
    "## Load a random image and plot it"
   ],
   "metadata": {}
  },
  {
   "cell_type": "code",
   "execution_count": 2,
   "source": [
    "import matplotlib.pyplot as plt\r\n",
    "from PIL import Image\r\n",
    "\r\n",
    "image = Image.open(IMAGE_TO_TEST)\r\n",
    "plt.figure()\r\n",
    "plt.imshow(image)\r\n",
    "plt.colorbar()\r\n",
    "plt.grid(False)\r\n",
    "plt.show()"
   ],
   "outputs": [
    {
     "output_type": "display_data",
     "data": {
      "text/plain": [
       "<Figure size 432x288 with 2 Axes>"
      ],
      "image/png": "[encoded data removed]"
     },
     "metadata": {
      "needs_background": "light"
     }
    }
   ],
   "metadata": {}
  },
  {
   "cell_type": "markdown",
   "source": [
    "## Invoke the webservice and show result"
   ],
   "metadata": {}
  },
  {
   "cell_type": "code",
   "execution_count": 3,
   "source": [
    "import requests\r\n",
    "import json\r\n",
    "\r\n",
    "# --- get input data\r\n",
    "input_data = open(IMAGE_TO_TEST, \"rb\").read()\r\n",
    "# alternatively for JSON input\r\n",
    "#input_data = json.dumps({\"x\": 4711})\r\n",
    "\r\n",
    "# --- get headers\r\n",
    "# Content-Type\r\n",
    "# for binary data\r\n",
    "headers = {\"Content-Type\": \"application/octet-stream\"}\r\n",
    "# alternatively for JSON data\r\n",
    "#headers = {\"Content-Type\": \"application/json\"}\r\n",
    "\r\n",
    "# Authorization\r\n",
    "if AUTH_METHOD == \"Token\":\r\n",
    "    # get an access token for the service principal to access Azure\r\n",
    "    azure_access_token = requests.post(\r\n",
    "        f\"https://login.microsoftonline.com/{CONSUME_MODEL_SP_TENANT_ID}/oauth2/token\",\r\n",
    "        headers={\"Content-Type\": \"application/x-www-form-urlencoded\"},\r\n",
    "        data=\"grant_type=client_credentials\"\r\n",
    "        + \"&resource=https%3A%2F%2Fmanagement.azure.com%2F\"\r\n",
    "        + f\"&client_id={CONSUME_MODEL_SP_CLIENT_ID}\"\r\n",
    "        + f\"&client_secret={CONSUME_MODEL_SP_CLIENT_SECRET}\",\r\n",
    "    ).json()[\"access_token\"]\r\n",
    "\r\n",
    "    # use that token to get another token for accessing the webservice\r\n",
    "    # note: the token is only valid for a certain period of time.\r\n",
    "    #       after that time, a new token has to be used. the logic\r\n",
    "    #       to do this, is not implemented here yet. you can check\r\n",
    "    #       the current time against the refresh after time to know\r\n",
    "    #       if a new token is required. refreshAfter and expiryOn\r\n",
    "    #       are UNIX timestamps. use time.time() to get the current\r\n",
    "    #       timestamp.\r\n",
    "    token_response = requests.post(\r\n",
    "        f\"https://{REGION}.modelmanagement.azureml.net/modelmanagement/v1.0/subscriptions/{SUBSCRIPTION_ID}/resourceGroups/{RESOURCE_GROUP}/providers/Microsoft.MachineLearningServices/workspaces/{WORKSPACE_NAME}/services/{SERVICE_NAME}/token\",\r\n",
    "        headers={\"Authorization\": f\"Bearer {azure_access_token}\"}\r\n",
    "    ).json()\r\n",
    "    access_token = token_response[\"accessToken\"]\r\n",
    "    access_token_refresh_after = int(token_response[\"refreshAfter\"])\r\n",
    "    access_token_expiry_on = int(token_response[\"expiryOn\"])\r\n",
    "\r\n",
    "    # finally, use that token to access the webservice\r\n",
    "    headers[\"Authorization\"] = f\"Bearer {access_token}\"\r\n",
    "if AUTH_METHOD == \"Keys\":\r\n",
    "    headers[\"Authorization\"] = f\"Bearer {AUTH_KEY}\"\r\n",
    "if AUTH_METHOD == \"None\":\r\n",
    "    # do nothing\r\n",
    "    pass\r\n",
    "\r\n",
    "# --- make request and display response\r\n",
    "response = requests.post(SCORING_URI, input_data, headers=headers, verify=True)\r\n",
    "print(response.json())"
   ],
   "outputs": [
    {
     "output_type": "stream",
     "name": "stdout",
     "text": [
      "{'predicted_label': 'Sandal', 'confidence': '1.0'}\n"
     ]
    }
   ],
   "metadata": {}
  }
 ],
 "metadata": {
  "language_info": {
   "name": "python",
   "codemirror_mode": {
    "name": "ipython",
    "version": 3
   },
   "version": "3.6.11-final"
  },
  "orig_nbformat": 2,
  "file_extension": ".py",
  "mimetype": "text/x-python",
  "name": "python",
  "npconvert_exporter": "python",
  "pygments_lexer": "ipython3",
  "version": 3,
  "kernelspec": {
   "name": "python361064bitamltemplatecondaa8d5916ec83f44f8921a274321300a27",
   "display_name": "Python 3.6.10 64-bit ('aml_template': conda)",
   "language": "python"
  }
 },
 "nbformat": 4,
 "nbformat_minor": 2
}